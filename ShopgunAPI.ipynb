{
 "cells": [
  {
   "cell_type": "code",
   "execution_count": 1,
   "metadata": {
    "collapsed": false,
    "scrolled": true
   },
   "outputs": [],
   "source": [
    "from ShopgunAPI import ShopgunAPI\n",
    "import json\n",
    "import io\n",
    "\n",
    "shopgunAPI = ShopgunAPI(verbose=True);\n",
    "#shopgunAPI.getStores();"
   ]
  },
  {
   "cell_type": "code",
   "execution_count": 2,
   "metadata": {
    "collapsed": false,
    "scrolled": true
   },
   "outputs": [
    {
     "name": "stdout",
     "output_type": "stream",
     "text": [
      "All Catalogs               Store Id    Id\n",
      "-------------------------  ----------  -------\n",
      "Europris                   1a49Wk3     7ebekeq\n",
      "MENY                       d8dewIy     b059N5q\n",
      "JYSK                       52e71L3     5dd6bbq\n",
      "Clas Ohlson                b7e84C1     09bdS4q\n",
      "Expert                     6d78T91     9cedHeq\n",
      "G-Sport | G-MAX            5a29G48     4defyeq\n",
      "Nille                      0659dF3     3497UJq\n",
      "Elkjøp                     de03l41     e211RJq\n",
      "Rusta                      2d99HSq     1f0cTJq\n",
      "Jula                       12d0Ta3     89c2hJq\n",
      "Jernia                     84d5SND     1742ENq\n",
      "Joker                      618fq21     3b83t9q\n",
      "Vita                       ef73ozq     74afW9q\n",
      "Staples                    3678GK1     2022zeq\n",
      "SPAR                       2a7dV81     3a9emNq\n",
      "Skeidar                    4e7fMkD     05bdz5q\n",
      "Extra Bekkestua            98c86Iq     719819q\n",
      "lefdal                     3fc34cy     6a9dSJq\n",
      "G-Sport | G-MAX            5a29G48     7ab71eq\n",
      "Enklere Liv                ce46Mdz     8430T4q\n",
      "Coop Byggmix               6ed2RD3     4ec4Seq\n",
      "Bohus                      0f62X4A     39afSVq\n",
      "Biltema                    d026SA1     d35c32q\n",
      "Møbelringen                d2bdklD     7ecd54q\n",
      "Bunnpris Nydalen           f00d501     ea96pdq\n",
      "Coop Prix Hausmannsgate    6a76Ahz     8488s9q\n",
      "Montér                     acc2IOD     0467hNq\n",
      "Christiania Belysning      356ePLq     a2dcI4q\n",
      "Coop Mega Bekkestua        045ekR1     1a73n9q\n",
      "Obs! Alnabru               3a66jSA     a7c4u9q\n",
      "BAUHAUS                    8dca4Wy     f922pJq\n",
      "Bunnpris Nydalen           f00d501     a7d3oNq\n",
      "Kjell & Company            ac8cvjD     17aaCdq\n",
      "BYGGI                      59b49TE     0e84XNq\n",
      "Panduro Hobby              1205lK1     bdf4rLq\n",
      "Coop Marked                6288Nn1     cbd0M9q\n",
      "Matkroken Bråten           8fe54XE     a49fX9q\n",
      "Obs! Lillestrøm            0d7bgoA     508fv9q\n",
      "Fagmøbler                  6103CRD     e035E5q\n",
      "Coop Prix Kolbotn          c1f62N8     1a9aE9q\n",
      "Coop Obs! Bygg Alnabru     59e3rrA     9b14HTq\n",
      "Jacobs                     6ed9iq3     8f1b25q\n",
      "Coop Obs! Bygg Lillestrøm  d97atrA     21e8tTq\n",
      "Coop Obs! Bygg Grorud      5355z9q     317fBTq\n",
      "lefdal                     3fc34cy     ab89G5q\n",
      "Elkjøp                     de03l41     67d675q\n",
      "\n",
      "---------------------------------\n",
      "Selected Catalogs    Id       Run From                  Brand\n",
      "-------------------  -------  ------------------------  -------\n",
      "SPAR                 3a9emNq  2017-03-12T23:00:00+0000  spar\n"
     ]
    }
   ],
   "source": [
    "selectedBrandNames = ['coop mega', 'coop extra', 'coop marked', 'kiwi', 'meny', 'rema', 'matkroken',\\\n",
    "                      'coop prix','joker', 'bunnpris', 'extra', 'spar']\n",
    "selectedBrandNames = ['spar']\n",
    "selectedCatalogList = shopgunAPI.getCatalogs(selectedBrandNames=selectedBrandNames)"
   ]
  },
  {
   "cell_type": "code",
   "execution_count": 3,
   "metadata": {
    "collapsed": false,
    "scrolled": true
   },
   "outputs": [
    {
     "name": "stdout",
     "output_type": "stream",
     "text": [
      "--------------------------------------------\n",
      "Requesting catalog SPAR with id 3a9emNq...\n",
      "Number of offers: 41\n",
      "Uploading catalog spar_3a9emNq_2017-03-12T23:00:00+0000.json\n",
      "<Response [200]>\n",
      "{\"status\": \"Success\", \"message\": \"Saved products with store_id 15\"}\n",
      "Done.\n"
     ]
    }
   ],
   "source": [
    "from MatifyAPI import MatifyAPI\n",
    "matifyAPI = MatifyAPI()\n",
    "#Get offers in selected catalogs\n",
    "for catalogStore, catalogId, catalogRunFrom, catalogBrand in selectedCatalogList:\n",
    "    offerDescList = shopgunAPI.getOfferDescriptionsOfCatalog(catalogId, catalogStore)\n",
    "    JsonFileName = shopgunAPI.generateCatalogFileName(catalogBrand, catalogId, catalogRunFrom)\n",
    "    with io.open(JsonFileName, 'w', encoding=\"utf-8\") as json_file:\n",
    "        data = json.dumps(offerDescList, ensure_ascii=False)     \n",
    "        json_file.write(unicode(data))\n",
    "        matifyAPI.uploadCatalog(brandName=catalogBrand, catalogData=data, catalogFileName=JsonFileName)\n",
    "    print \"Done.\""
   ]
  },
  {
   "cell_type": "code",
   "execution_count": null,
   "metadata": {
    "collapsed": false
   },
   "outputs": [],
   "source": []
  },
  {
   "cell_type": "markdown",
   "metadata": {
    "collapsed": false
   },
   "source": [
    "## Download deals from before"
   ]
  },
  {
   "cell_type": "code",
   "execution_count": null,
   "metadata": {
    "collapsed": false
   },
   "outputs": [],
   "source": [
    "selectedBrandNames = ['coop mega', 'coop extra', 'coop marked', 'kiwi', 'meny', 'rema', 'matkroken', \n",
    "                      'coop obs', 'coop prix','joker', 'bunnpris', 'extra', 'spar']\n",
    "\n",
    "catalogsResponse = session.get('https://api.etilbudsavis.dk/v2/catalogs?r_lat=59.95'+\n",
    "                               '&r_lng=10.75&r_radius=700000&api_av=0.1.33'+\n",
    "                               '&offset=10&limit=100'+\n",
    "                               '&run_from=2015-01-30T23:00:00+0000'+\n",
    "                               '&run_till=2015-02-13T22:59:59+0000',\n",
    "                               headers=defaultHeaders)\n",
    "catalogs = json.loads(catalogsResponse.text)\n",
    "catalogList = [[catalog['branding']['name'], catalog['store_id'], catalog['id']] for catalog in catalogs]\n",
    "print tabulate(catalogList, headers=['All Catalogs', 'Store Id', 'Id'])\n",
    "\n",
    "#Check if any brand name contains any selectedBrandName\n",
    "selectedCatalogs = [catalog for catalog in catalogs \n",
    "                    if len([brandName for brandName in selectedBrandNames if brandName in catalog['branding']['name'].lower()]) > 0]\n",
    "selectedCatalogList = [[catalog['branding']['name'], catalog['id'], catalog['run_from'], \n",
    "                        next(brandName for brandName in selectedBrandNames if brandName in catalog['branding']['name'].lower())] \n",
    "                       for catalog in selectedCatalogs]\n",
    "print \"\\n---------------------------------\"\n",
    "print tabulate(selectedCatalogList, headers=['Selected Catalogs', 'Id', 'Run From', 'Brand'])"
   ]
  },
  {
   "cell_type": "code",
   "execution_count": null,
   "metadata": {
    "collapsed": false
   },
   "outputs": [],
   "source": [
    "catalogsResponse"
   ]
  },
  {
   "cell_type": "code",
   "execution_count": null,
   "metadata": {
    "collapsed": true
   },
   "outputs": [],
   "source": [
    "catalogs = json.loads(catalogsResponse.text)\n"
   ]
  },
  {
   "cell_type": "code",
   "execution_count": null,
   "metadata": {
    "collapsed": true
   },
   "outputs": [],
   "source": []
  }
 ],
 "metadata": {
  "kernelspec": {
   "display_name": "Python 2",
   "language": "python",
   "name": "python2"
  },
  "language_info": {
   "codemirror_mode": {
    "name": "ipython",
    "version": 2
   },
   "file_extension": ".py",
   "mimetype": "text/x-python",
   "name": "python",
   "nbconvert_exporter": "python",
   "pygments_lexer": "ipython2",
   "version": "2.7.6"
  }
 },
 "nbformat": 4,
 "nbformat_minor": 1
}
