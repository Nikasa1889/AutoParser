{
 "cells": [
  {
   "cell_type": "code",
   "execution_count": 1,
   "metadata": {
    "collapsed": false,
    "scrolled": true
   },
   "outputs": [],
   "source": [
    "from ShopgunAPI import ShopgunAPI\n",
    "import json\n",
    "import io\n",
    "\n",
    "shopgunAPI = ShopgunAPI(verbose=True);\n",
    "#shopgunAPI.getStores();"
   ]
  },
  {
   "cell_type": "code",
   "execution_count": 2,
   "metadata": {
    "collapsed": false,
    "scrolled": true
   },
   "outputs": [
    {
     "name": "stdout",
     "output_type": "stream",
     "text": [
      "All Catalogs               Store Id    Id\n",
      "-------------------------  ----------  -------\n",
      "Europris                   1a49Wk3     cbeaQxC\n",
      "SPAR                       2a7dV81     0ffexEC\n",
      "XXL Majorstuen             6c3a9C3     79653wC\n",
      "JYSK                       52e71L3     b13eL3C\n",
      "Joker                      618fq21     3ac61wC\n",
      "Vita                       ef73ozq     531c32C\n",
      "lefdal                     3fc34cy     2596PZC\n",
      "G-Sport | G-MAX            5a29G48     c7f9DwC\n",
      "Nille                      6981plU     1211JpC\n",
      "Euronics                   9dc4G41     5b76cCC\n",
      "JYSK                       52e71L3     8cc5g3C\n",
      "MENY                       d8dewIy     138d4ZC\n",
      "Elkjøp                     de03l41     8b47jZC\n",
      "Biltema                    d026SA1     1d01rCC\n",
      "Dags Marked                6f65yvD     7815msC\n",
      "Jernia                     84d5SND     91c8ZxC\n",
      "Møbelringen                d2bdklD     c5173EC\n",
      "Extra Bjølsen              d2bdSIq     401a4FC\n",
      "Coop Prix Marsveien        d496sXz     5f1c82C\n",
      "Søstrene Grene             55d6pg1     dc7dt1C\n",
      "Coop Mega Nydalen          2665CXz     d3bbHFC\n",
      "Bunnpris Nydalen           f00d501     19d21zC\n",
      "Bohus                      0f62X4A     69b633C\n",
      "Extra Sagene               1760ERq     9768lFC\n",
      "BilXtra                    36346GD     ed6dUc0\n",
      "Obs! Alnabru               3a66jSA     3043uQC\n",
      "Coop Elektro               a76elq3     b49fxzC\n",
      "Coop Byggmix               6ed2RD3     6a73pzC\n",
      "Extra-Leker                f1dcVvD     537eKW0\n",
      "Biltema                    d026SA1     fb60VJq\n",
      "Home & Cottage             76feXBD     d6c3H1C\n",
      "Japan Photo                e07aO9D     48a0BEC\n",
      "Kjell & Company            ac8cvjD     eefbv0C\n",
      "Fagmøbler                  6103CRD     c21ay3C\n",
      "Coop Marked                6288Nn1     3d60wFC\n",
      "Flisekompaniet             d7f7DoD     0cad0ZC\n",
      "Obs! Lillestrøm            0d7bgoA     e2b7CQC\n",
      "Kjell & Company            ac8cvjD     ef71sn0\n",
      "Matkroken Tåsen            7edbLOE     a966dFC\n",
      "Panduro Hobby              1205lK1     7736VJ0\n",
      "Coop Obs! Bygg Alnabru     59e3rrA     227cEQC\n",
      "Coop Obs! Bygg Lillestrøm  d97atrA     c343jQC\n",
      "Coop Obs! Bygg Grorud      5355z9q     9f2cRFC\n",
      "Coop Obs Bygg Bærum        efb4orA     cfb7gQC\n",
      "Happy Homes                dbfayHE     c648xsC\n",
      "Jacobs                     6ed9iq3     42a0kZC\n",
      "Elektroimportøren          deb3p4A     0d0aKNC\n",
      "\n",
      "---------------------------------\n",
      "Selected Catalogs    Id       Run From                  Brand\n",
      "-------------------  -------  ------------------------  -------\n",
      "SPAR                 0ffexEC  2017-07-09T22:00:00+0000  spar\n"
     ]
    }
   ],
   "source": [
    "selectedBrandNames = ['coop mega', 'coop extra', 'coop marked', 'kiwi', 'meny', 'rema', 'matkroken',\\\n",
    "                      'coop prix','joker', 'bunnpris', 'extra', 'spar']\n",
    "selectedBrandNames = ['spar']\n",
    "selectedCatalogList = shopgunAPI.getCatalogs(selectedBrandNames=selectedBrandNames)"
   ]
  },
  {
   "cell_type": "code",
   "execution_count": 67,
   "metadata": {
    "collapsed": false,
    "scrolled": true
   },
   "outputs": [
    {
     "name": "stdout",
     "output_type": "stream",
     "text": [
      "--------------------------------------------\n",
      "Requesting catalog SPAR with id 0ffexEC...\n",
      "Number of offers: 69\n",
      "Uploading catalog spar_0ffexEC_2017-07-09T22:00:00+0000.json\n",
      "<Response [400]>\n",
      "{\"status\": \"Fail\", \"message\": \"This file has been uploaded\"}\n",
      "Done.\n"
     ]
    }
   ],
   "source": [
    "from MatifyAPI import MatifyAPI\n",
    "matifyAPI = MatifyAPI()\n",
    "#Get offers in selected catalogs\n",
    "for catalogStore, catalogId, catalogRunFrom, catalogBrand in selectedCatalogList:\n",
    "    offerDescList = shopgunAPI.getOfferDescriptionsOfCatalog(catalogId, catalogStore)\n",
    "    JsonFileName = shopgunAPI.generateCatalogFileName(catalogBrand, catalogId, catalogRunFrom)\n",
    "    with io.open(JsonFileName, 'w', encoding=\"utf-8\") as json_file:\n",
    "        data = json.dumps(offerDescList, ensure_ascii=False)     \n",
    "        json_file.write(unicode(data))\n",
    "        matifyAPI.uploadCatalog(brandName=catalogBrand, catalogData=data, catalogFileName=JsonFileName)\n",
    "    print \"Done.\""
   ]
  },
  {
   "cell_type": "markdown",
   "metadata": {
    "collapsed": false
   },
   "source": [
    "## Download deals from before"
   ]
  },
  {
   "cell_type": "code",
   "execution_count": null,
   "metadata": {
    "collapsed": false
   },
   "outputs": [],
   "source": [
    "selectedBrandNames = ['coop mega', 'coop extra', 'coop marked', 'kiwi', 'meny', 'rema', 'matkroken', \n",
    "                      'coop obs', 'coop prix','joker', 'bunnpris', 'extra', 'spar']\n",
    "\n",
    "catalogsResponse = session.get('https://api.etilbudsavis.dk/v2/catalogs?r_lat=59.95'+\n",
    "                               '&r_lng=10.75&r_radius=700000&api_av=0.1.33'+\n",
    "                               '&offset=10&limit=100'+\n",
    "                               '&run_from=2015-01-30T23:00:00+0000'+\n",
    "                               '&run_till=2015-02-13T22:59:59+0000',\n",
    "                               headers=defaultHeaders)\n",
    "catalogs = json.loads(catalogsResponse.text)\n",
    "catalogList = [[catalog['branding']['name'], catalog['store_id'], catalog['id']] for catalog in catalogs]\n",
    "print tabulate(catalogList, headers=['All Catalogs', 'Store Id', 'Id'])\n",
    "\n",
    "#Check if any brand name contains any selectedBrandName\n",
    "selectedCatalogs = [catalog for catalog in catalogs \n",
    "                    if len([brandName for brandName in selectedBrandNames if brandName in catalog['branding']['name'].lower()]) > 0]\n",
    "selectedCatalogList = [[catalog['branding']['name'], catalog['id'], catalog['run_from'], \n",
    "                        next(brandName for brandName in selectedBrandNames if brandName in catalog['branding']['name'].lower())] \n",
    "                       for catalog in selectedCatalogs]\n",
    "print \"\\n---------------------------------\"\n",
    "print tabulate(selectedCatalogList, headers=['Selected Catalogs', 'Id', 'Run From', 'Brand'])"
   ]
  },
  {
   "cell_type": "code",
   "execution_count": null,
   "metadata": {
    "collapsed": false
   },
   "outputs": [],
   "source": [
    "catalogsResponse"
   ]
  },
  {
   "cell_type": "code",
   "execution_count": null,
   "metadata": {
    "collapsed": true
   },
   "outputs": [],
   "source": [
    "catalogs = json.loads(catalogsResponse.text)\n"
   ]
  },
  {
   "cell_type": "code",
   "execution_count": null,
   "metadata": {
    "collapsed": true
   },
   "outputs": [],
   "source": []
  }
 ],
 "metadata": {
  "kernelspec": {
   "display_name": "Python 2",
   "language": "python",
   "name": "python2"
  },
  "language_info": {
   "codemirror_mode": {
    "name": "ipython",
    "version": 2
   },
   "file_extension": ".py",
   "mimetype": "text/x-python",
   "name": "python",
   "nbconvert_exporter": "python",
   "pygments_lexer": "ipython2",
   "version": "2.7.6"
  }
 },
 "nbformat": 4,
 "nbformat_minor": 1
}
