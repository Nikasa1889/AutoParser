{
 "cells": [
  {
   "cell_type": "code",
   "execution_count": 4,
   "metadata": {
    "scrolled": true
   },
   "outputs": [],
   "source": [
    "from ShopgunAPI import ShopgunAPI\n",
    "import json\n",
    "import io\n",
    "\n",
    "shopgunAPI = ShopgunAPI(verbose=True);\n",
    "#shopgunAPI.getStores();"
   ]
  },
  {
   "cell_type": "code",
   "execution_count": 5,
   "metadata": {
    "scrolled": true
   },
   "outputs": [
    {
     "name": "stdout",
     "output_type": "stream",
     "text": [
      "All Catalogs            Store Id    Id\n",
      "----------------------  ----------  -------\n",
      "REMA 1000               957crwF     3a2cijz\n",
      "Extra Sagene            1760ERq     b8c6rkz\n",
      "Extra Bjølsen           d2bdSIq     172dokz\n",
      "Obs! Alnabru            3a66jSA     353cU4z\n",
      "SPAR                    2a7dV81     6782wbz\n",
      "Coop Prix Marsveien     d496sXz     efe1z4z\n",
      "Elkjøp                  de03l41     bf67Bnz\n",
      "Bunnpris Nydalen        f00d501     b3eddiz\n",
      "Bunnpris Nydalen        f00d501     adb1Lvz\n",
      "Biltema                 d026SA1     1e3euBz\n",
      "Biltema                 d026SA1     3957vqE\n",
      "Jula                    12d0Ta3     462fuUz\n",
      "Nille                   6981plU     f2adyvz\n",
      "G-Sport | G-MAX         5a29G48     e883g5z\n",
      "XXL Majorstuen          6c3a9C3     6aa0W4z\n",
      "lefdal                  3fc34cy     36709nz\n",
      "Clas Ohlson             b7e84C1     7432Djz\n",
      "Rusta                   2d99HSq     15ealnz\n",
      "Euronics                9dc4G41     42a9Vlz\n",
      "Apotek 1                d146811     372assz\n",
      "Jernia                  84d5SND     74caqbz\n",
      "Jernia                  84d5SND     b817tDz\n",
      "Staples                 3678GK1     3a23bsz\n",
      "Vita                    ef73ozq     8ae3zjz\n",
      "Hi-Fi Klubben           a1a8fcy     99d63bz\n",
      "Kremmerhuset            f577iWY     73420jz\n",
      "MegaFlis Alnabru        311bh3A     2f69eBz\n",
      "Flisekompaniet          d7f7DoD     ccbdClz\n",
      "Flisekompaniet          d7f7DoD     772cjqz\n",
      "Life Helsekost          4d08O6D     72dd1vz\n",
      "Dags Marked             6f65yvD     4746ujz\n",
      "Extra-Leker             f1dcVvD     9dffQnz\n",
      "Extra-Leker             f1dcVvD     1413Zlz\n",
      "Kjell & Company         ac8cvjD     20f45dz\n",
      "Home & Cottage          76feXBD     4be8Ijz\n",
      "Feel                    a28cp3E     9447wjz\n",
      "Elektroimportøren       deb3p4A     0f55c4z\n",
      "Stoff & Stil            4e87wqz     5920GFE\n",
      "Jacobs                  6ed9iq3     b144gnz\n",
      "Sandvika Storsenter     de00QAZ     4dd8GPz\n",
      "Kvadrat                 01a285x     9bc7Dbz\n",
      "Extra Bjølsen           d2bdSIq     46a8lHz\n",
      "Extra Bjølsen           d2bdSIq     9081QHz\n",
      "Obs! Alnabru            3a66jSA     1236FHz\n",
      "Obs!                    4825pAf     a576xHz\n",
      "Coop Prix Marsveien     d496sXz     18c6fHz\n",
      "Coop Obs! Bygg Alnabru  59e3rrA     79cdYHz\n",
      "Extra Bjølsen           d2bdSIq     f4b6zHz\n",
      "Sport1                  188aLDq     4da1mHz\n",
      "Sartor Storsenter       8527DVF     5ea9inz\n",
      "POWER                   6d78T91     b7d4vnz\n",
      "Jernia                  84d5SND     f8ebdjz\n",
      "\n",
      "---------------------------------\n",
      "Selected Catalogs    Id       Run From                  Brand\n",
      "-------------------  -------  ------------------------  -------\n",
      "SPAR                 6782wbz  2017-12-03T23:00:00+0000  spar\n"
     ]
    }
   ],
   "source": [
    "selectedBrandNames = ['coop mega', 'coop extra', 'coop marked', 'kiwi', 'meny', 'rema', 'matkroken',\\\n",
    "                      'coop prix','joker', 'bunnpris', 'extra', 'spar']\n",
    "selectedBrandNames = ['spar']\n",
    "selectedCatalogList = shopgunAPI.getCatalogs(selectedBrandNames=selectedBrandNames)"
   ]
  },
  {
   "cell_type": "code",
   "execution_count": 6,
   "metadata": {
    "scrolled": true
   },
   "outputs": [
    {
     "name": "stdout",
     "output_type": "stream",
     "text": [
      "--------------------------------------------\n",
      "Requesting catalog SPAR with id 6782wbz...\n",
      "Number of offers: 52\n",
      "Number of offers after filtered duplicates: 49\n",
      "Uploading catalog spar_6782wbz_2017-12-03T23:00:00+0000.json\n",
      "<Response [400]>\n",
      "{\"message\": \"This file has been uploaded\", \"status\": \"Fail\"}\n",
      "Done.\n"
     ]
    },
    {
     "name": "stderr",
     "output_type": "stream",
     "text": [
      "/home/nikasa/miniconda3/lib/python3.6/site-packages/urllib3/connectionpool.py:858: InsecureRequestWarning: Unverified HTTPS request is being made. Adding certificate verification is strongly advised. See: https://urllib3.readthedocs.io/en/latest/advanced-usage.html#ssl-warnings\n",
      "  InsecureRequestWarning)\n"
     ]
    }
   ],
   "source": [
    "from MatifyAPI import MatifyAPI\n",
    "matifyAPI = MatifyAPI()\n",
    "#Get offers in selected catalogs\n",
    "for catalogStore, catalogId, catalogRunFrom, catalogBrand in selectedCatalogList:\n",
    "    offerDescList = shopgunAPI.getOfferDescriptionsOfCatalog(catalogId, catalogStore)\n",
    "    JsonFileName = shopgunAPI.generateCatalogFileName(catalogBrand, catalogId, catalogRunFrom)\n",
    "    with io.open(JsonFileName, 'w', encoding=\"utf-8\") as json_file:\n",
    "        data = json.dumps(list(offerDescList), ensure_ascii=False)\n",
    "        json_file.write(data)\n",
    "        matifyAPI.uploadCatalog(brandName=catalogBrand, catalogData=data, catalogFileName=JsonFileName)\n",
    "    print(\"Done.\")"
   ]
  },
  {
   "cell_type": "code",
   "execution_count": null,
   "metadata": {},
   "outputs": [],
   "source": [
    "token = 'b2h6ylyfn6pfvoz5wuvc'\n",
    "if self.verbose:\n",
    "    print(\"Uploading catalog \" + catalogFileName)\n",
    "\n",
    "storeId = self.getStoreId(brandName);\n",
    "response = self.session.post( SERVER_API_ENDPOINT + 'upload_products/'+str(storeId),\n",
    "                          data = {\"token\":token, \n",
    "                                  \"file_name\":catalogFileName, \n",
    "                                  \"data\": catalogData})"
   ]
  },
  {
   "cell_type": "markdown",
   "metadata": {},
   "source": [
    "## Download deals from before"
   ]
  },
  {
   "cell_type": "code",
   "execution_count": null,
   "metadata": {},
   "outputs": [],
   "source": [
    "selectedBrandNames = ['coop mega', 'coop extra', 'coop marked', 'kiwi', 'meny', 'rema', 'matkroken', \n",
    "                      'coop obs', 'coop prix','joker', 'bunnpris', 'extra', 'spar']\n",
    "\n",
    "catalogsResponse = session.get('https://api.etilbudsavis.dk/v2/catalogs?r_lat=59.95'+\n",
    "                               '&r_lng=10.75&r_radius=700000&api_av=0.1.33'+\n",
    "                               '&offset=10&limit=100'+\n",
    "                               '&run_from=2015-01-30T23:00:00+0000'+\n",
    "                               '&run_till=2015-02-13T22:59:59+0000',\n",
    "                               headers=defaultHeaders)\n",
    "catalogs = json.loads(catalogsResponse.text)\n",
    "catalogList = [[catalog['branding']['name'], catalog['store_id'], catalog['id']] for catalog in catalogs]\n",
    "print tabulate(catalogList, headers=['All Catalogs', 'Store Id', 'Id'])\n",
    "\n",
    "#Check if any brand name contains any selectedBrandName\n",
    "selectedCatalogs = [catalog for catalog in catalogs \n",
    "                    if len([brandName for brandName in selectedBrandNames if brandName in catalog['branding']['name'].lower()]) > 0]\n",
    "selectedCatalogList = [[catalog['branding']['name'], catalog['id'], catalog['run_from'], \n",
    "                        next(brandName for brandName in selectedBrandNames if brandName in catalog['branding']['name'].lower())] \n",
    "                       for catalog in selectedCatalogs]\n",
    "print \"\\n---------------------------------\"\n",
    "print tabulate(selectedCatalogList, headers=['Selected Catalogs', 'Id', 'Run From', 'Brand'])"
   ]
  },
  {
   "cell_type": "code",
   "execution_count": null,
   "metadata": {},
   "outputs": [],
   "source": [
    "catalogsResponse"
   ]
  },
  {
   "cell_type": "code",
   "execution_count": null,
   "metadata": {},
   "outputs": [],
   "source": [
    "catalogs = json.loads(catalogsResponse.text)\n"
   ]
  },
  {
   "cell_type": "code",
   "execution_count": null,
   "metadata": {},
   "outputs": [],
   "source": []
  }
 ],
 "metadata": {
  "kernelspec": {
   "display_name": "Python 3",
   "language": "python",
   "name": "python3"
  },
  "language_info": {
   "codemirror_mode": {
    "name": "ipython",
    "version": 3
   },
   "file_extension": ".py",
   "mimetype": "text/x-python",
   "name": "python",
   "nbconvert_exporter": "python",
   "pygments_lexer": "ipython3",
   "version": "3.6.3"
  }
 },
 "nbformat": 4,
 "nbformat_minor": 1
}
