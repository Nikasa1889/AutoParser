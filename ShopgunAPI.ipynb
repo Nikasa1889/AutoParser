{
 "cells": [
  {
   "cell_type": "code",
   "execution_count": 16,
   "metadata": {
    "collapsed": false
   },
   "outputs": [],
   "source": [
    "from requests import Session\n",
    "from tabulate import tabulate\n",
    "import json\n",
    "import io\n",
    "# encoding=utf8\n",
    "\n",
    "session = Session()\n",
    "tokenResponse = session.post('https://api.etilbudsavis.dk/v2/sessions?api_key=00izwus560vpbdasf0o92m2fhaim4ynr')\n",
    "token = (json.loads(tokenResponse.text))[\"token\"]\n",
    "if not token:\n",
    "    print \"Couldn't get token\"\n",
    "defaultHeaders = {'X-token': token, 'Origin': \"https://etilbudsavis.dk/\"}"
   ]
  },
  {
   "cell_type": "code",
   "execution_count": 17,
   "metadata": {
    "collapsed": false,
    "scrolled": true
   },
   "outputs": [
    {
     "name": "stdout",
     "output_type": "stream",
     "text": [
      "-----------------List 100 stores-----------------------------\n",
      "All Stores              Id\n",
      "----------------------  -------\n",
      "Matkroken Tåsen         7edbLOE\n",
      "Apotek 1                d146811\n",
      "SPAR                    2a7dV81\n",
      "Norli                   ec06Mm3\n",
      "Christiania Belysning   356ePLq\n",
      "KIWI                    90f2F7y\n",
      "MENY                    d8dewIy\n",
      "Coop Mega Nydalen       2665CXz\n",
      "Apotek 1                77f6011\n",
      "Vitus Apotek            57e1mVq\n",
      "Apotek 1                49b2Gy1\n",
      "BilXtra                 36346GD\n",
      "Jernia                  84d5SND\n",
      "Sport1                  188aLDq\n",
      "Barnas Hus              acefKMD\n",
      "Tilbords                bcd4GjA\n",
      "Life Helsekost          4d08O6D\n",
      "Vita                    ef73ozq\n",
      "G-Sport Oslo - Ullevål  d1b6OK3\n",
      "Coop Mega Ullevål       82a9zXz\n",
      "KIWI                    b88bQ7y\n",
      "Elkjøp                  de03l41\n",
      "Närbutikken             67f3Wvq\n",
      "Joker                   618fq21\n",
      "REMA 1000               6d3dpaz\n",
      "REMA 1000               793fTYz\n",
      "Joker                   00f0A21\n",
      "Plantasjen              36feM5q\n",
      "Expert                  6d78T91\n",
      "Hansen & Dysvik         088arRD\n",
      "Joker                   a8c7C21\n",
      "Synsam                  e6a9Lxq\n",
      "Apotek 1                1c81Wy1\n",
      "Coop Mega Storo         4b53OGz\n",
      "Elkjøp                  61cdAk1\n",
      "Vitus Apotek            699b9Vq\n",
      "G-Sport Oslo - Storo    fedcXK3\n",
      "Gullfunn                8e356oD\n",
      "Jernia                  18928ND\n",
      "Kitchn                  f557zl3\n",
      "Princessbutikken        bebaDtD\n",
      "Synsam                  bcfcypq\n",
      "Vita                    6d31N9q\n",
      "Extra Bjølsen           d2bdSIq\n",
      "Telenor                 6820L5q\n",
      "Boots Apotek            0abdK3z\n",
      "REMA 1000               c7e0Gpz\n",
      "Shoeday                 e469aXD\n",
      "Bunnpris Nydalen        f00d501\n",
      "REMA 1000               868dIVz\n",
      "Enklere Liv             ce46Mdz\n",
      "G-MAX Oslo - Storo      324evc1\n",
      "Christiania Belysning   fb38jLq\n",
      "Brilleland              97add2q\n",
      "Clas Ohlson             b7e84C1\n",
      "Kjell & Company         ac8cvjD\n",
      "EUROSKO                 fd76oU1\n",
      "KappAhl                 a36cJSD\n",
      "Kozmos                  ef493G3\n",
      "Kremmerhuset            ece1TWE\n",
      "lefdal                  3fc34cy\n",
      "Teknikmagasinet         726c8bD\n",
      "Tilbords                8739XjA\n",
      "CHANGE                  2eccurA\n",
      "Coop Extra              3783lj1\n",
      "Torshov bilrekvisita    8bb7uyq\n",
      "KIWI                    4a63w7y\n",
      "Joker                   c567E21\n",
      "Joker                   f779D21\n",
      "Extra Sagene            1760ERq\n",
      "Bunnpris Storo          e9b0TD1\n",
      "KIWI                    60a1N7y\n",
      "MENY                    f2b0dIy\n",
      "Vitus Apotek            44c7vVq\n",
      "Vita                    2306vzq\n",
      "Coop Mega Sandaker      ce15qXz\n",
      "Extra Korsvoll          48b2IMq\n",
      "Panduro Hobby           1205lK1\n",
      "Specsavers              79cei03\n",
      "Comfort                 c7b9PFq\n",
      "KIWI                    9941d7y\n",
      "KIWI                    79b9x7y\n",
      "REMA 1000               d7c47Zz\n",
      "Vitus Apotek            6ed7uVq\n",
      "Birk Sport              ea74Ha3\n",
      "Hi-Fi Klubben           a1a8fcy\n",
      "KIWI                    c93fV7y\n",
      "Joker                   b18ca21\n",
      "Vitus Apotek            6bd8ZVq\n",
      "MAXBO                   6b6aXPE\n",
      "Telenor                 63b2cxq\n",
      "Telenor                 cf34ssq\n",
      "Bunnpris Blindern       6a1ahoz\n",
      "Joker                   d9dfF21\n",
      "Bademiljø               dc25JbE\n",
      "Vakre Hjem              dbfayHE\n",
      "KIWI                    0f04Y7y\n",
      "Bunnpris Adamstuen      30a7g01\n",
      "Joker                   fa1eQ21\n",
      "REMA 1000               afd1PFz\n"
     ]
    }
   ],
   "source": [
    "#List Store. \n",
    "listResponse = session.get('https://api.etilbudsavis.dk/v2/stores?r_lat=59.95&r_lng=10.75&r_radius=700000&api_av=0.1.33&limit=100',\n",
    "                              headers=defaultHeaders)\n",
    "stores = json.loads(listResponse.text)\n",
    "storeList = [[store['branding']['name'], store['id']] for store in stores]\n",
    "print \"-----------------List 100 stores-----------------------------\"\n",
    "print tabulate(storeList, headers=['All Stores', 'Id'])\n",
    "#Should use the branding name instead of store id to filter\n",
    "#selectedId = ['7edbLOE', '90f2F7y', 'd8dewIy', '2665CXz', '82a9zXz', 'b88bQ7y', '618fq21', '98c86Iq']\n",
    "#selectedStoreList = [[store['branding']['name'], store['id']] for store in stores if (store['id'] in selectedId)]\n",
    "#print tabulate(selectedStoreList, headers=['Selected Stores', 'Id'])\n",
    "\n",
    "#Note: input names in lower-case\n",
    "selectedBrandNames = ['coop', 'kiwi', 'meny', 'rema', 'matkroken', 'joker', 'bunnpris', 'extra']"
   ]
  },
  {
   "cell_type": "code",
   "execution_count": 18,
   "metadata": {
    "collapsed": false,
    "scrolled": true
   },
   "outputs": [
    {
     "name": "stdout",
     "output_type": "stream",
     "text": [
      "All Catalogs               Store Id    Id\n",
      "-------------------------  ----------  -------\n",
      "Expert                     6d78T91     9cedHeq\n",
      "Europris                   1a49Wk3     7ebekeq\n",
      "Extra Bekkestua            98c86Iq     719819q\n",
      "Coop Prix Hausmannsgate    6a76Ahz     8488s9q\n",
      "Coop Mega Bekkestua        045ekR1     1a73n9q\n",
      "Elkjøp                     de03l41     e211RJq\n",
      "Jula                       12d0Ta3     89c2hJq\n",
      "lefdal                     3fc34cy     6a9dSJq\n",
      "Nille                      0659dF3     3497UJq\n",
      "Rusta                      2d99HSq     1f0cTJq\n",
      "Jernia                     84d5SND     1742ENq\n",
      "KIWI                       1df9fZ8     80005Jq\n",
      "Skeidar                    4e7fMkD     5991IJq\n",
      "Coop Marked                6288Nn1     cbd0M9q\n",
      "Matkroken Bråten           8fe54XE     a49fX9q\n",
      "Extra Bekkestua            98c86Iq     70falTq\n",
      "Montér                     acc2IOD     0467hNq\n",
      "Biltema                    d026SA1     d35c32q\n",
      "Bohus                      0f62X4A     39afSVq\n",
      "Bunnpris Nydalen           f00d501     ea96pdq\n",
      "Søstrene Grene             55d6pg1     2459mxq\n",
      "Coop Prix Kolbotn          c1f62N8     1a9aE9q\n",
      "BAUHAUS                    8dca4Wy     f922pJq\n",
      "Biltema                    d026SA1     a6e0ZYA\n",
      "Elektroimportøren          deb3p4A     d545CNq\n",
      "BYGGI                      59b49TE     0e84XNq\n",
      "Kjell & Company            ac8cvjD     17aaCdq\n",
      "Panduro Hobby              1205lK1     bdf4rLq\n",
      "Coop Obs! Bygg Alnabru     59e3rrA     9b14HTq\n",
      "Jacobs                     6ed9iq3     af23GJq\n",
      "Coop Obs! Bygg Lillestrøm  d97atrA     21e8tTq\n",
      "Coop Obs! Bygg Grorud      5355z9q     317fBTq\n",
      "Obs! Alnabru               3a66jSA     a7c4u9q\n",
      "Obs! Lillestrøm            0d7bgoA     508fv9q\n",
      "Coop Byggmix               6ed2RD3     4ec4Seq\n",
      "Staples                    3678GK1     2022zeq\n",
      "G-Sport Oslo - Ullevål     d1b6OK3     7ab71eq\n",
      "G-Sport Oslo - Ullevål     d1b6OK3     4defyeq\n",
      "JYSK                       52e71L3     5dd6bbq\n",
      "\n",
      "---------------------------------\n",
      "Selected Catalogs          Id       Run From                  Brand\n",
      "-------------------------  -------  ------------------------  ---------\n",
      "Extra Bekkestua            719819q  2017-03-12T23:00:00+0000  extra\n",
      "Coop Prix Hausmannsgate    8488s9q  2017-03-12T23:00:00+0000  coop\n",
      "Coop Mega Bekkestua        1a73n9q  2017-03-12T23:00:00+0000  coop\n",
      "KIWI                       80005Jq  2017-03-05T23:00:00+0000  kiwi\n",
      "Coop Marked                cbd0M9q  2017-03-12T23:00:00+0000  coop\n",
      "Matkroken Bråten           a49fX9q  2017-03-12T23:00:00+0000  matkroken\n",
      "Extra Bekkestua            70falTq  2017-03-05T23:00:00+0000  extra\n",
      "Bunnpris Nydalen           ea96pdq  2017-03-05T23:00:00+0000  bunnpris\n",
      "Coop Prix Kolbotn          1a9aE9q  2017-03-12T23:00:00+0000  coop\n",
      "Coop Obs! Bygg Alnabru     9b14HTq  2017-03-05T23:00:00+0000  coop\n",
      "Coop Obs! Bygg Lillestrøm  21e8tTq  2017-03-05T23:00:00+0000  coop\n",
      "Coop Obs! Bygg Grorud      317fBTq  2017-03-05T23:00:00+0000  coop\n",
      "Coop Byggmix               4ec4Seq  2017-03-12T23:00:00+0000  coop\n"
     ]
    }
   ],
   "source": [
    "#List Catalog\n",
    "#The store_ids filter of the API does not seem to work, so we have to filter ourself!\n",
    "#storeIdStr = ','.join([selectedStore[1] for selectedStore in selectedStoreList])\n",
    "catalogsResponse = session.get('https://api.etilbudsavis.dk/v2/catalogs?r_lat=59.95&r_lng=10.75&r_radius=700000&api_av=0.1.33&limit=100',\n",
    "                               headers=defaultHeaders)\n",
    "catalogs = json.loads(catalogsResponse.text)\n",
    "catalogList = [[catalog['branding']['name'], catalog['store_id'], catalog['id']] for catalog in catalogs]\n",
    "print tabulate(catalogList, headers=['All Catalogs', 'Store Id', 'Id'])\n",
    "\n",
    "#Check if any the brand name contains any selectedBrandName\n",
    "selectedCatalogs = [catalog for catalog in catalogs \n",
    "                    if len([brandName for brandName in selectedBrandNames if brandName in catalog['branding']['name'].lower()]) > 0]\n",
    "selectedCatalogList = [[catalog['branding']['name'], catalog['id'], catalog['run_from'], \n",
    "                        next(brandName for brandName in selectedBrandNames if brandName in catalog['branding']['name'].lower())] \n",
    "                       for catalog in selectedCatalogs]\n",
    "print \"\\n---------------------------------\"\n",
    "print tabulate(selectedCatalogList, headers=['Selected Catalogs', 'Id', 'Run From', 'Brand'])"
   ]
  },
  {
   "cell_type": "code",
   "execution_count": null,
   "metadata": {
    "collapsed": false
   },
   "outputs": [
    {
     "name": "stdout",
     "output_type": "stream",
     "text": [
      "--------------------------------------------\n",
      "Requesting catalog Extra Bekkestua with id 719819q...\n",
      "Number of offers: 75\n",
      "Parsing offers...\n",
      "Done.\n",
      "--------------------------------------------\n",
      "Requesting catalog Coop Prix Hausmannsgate with id 8488s9q...\n",
      "Number of offers: 50\n",
      "Parsing offers...\n"
     ]
    }
   ],
   "source": [
    "#Get offers in selected catalog\n",
    "for catalogStore, catalogId, catalogRunFrom, catalogBrand in selectedCatalogList:\n",
    "    print \"--------------------------------------------\"\n",
    "    print \"Requesting catalog \"+catalogStore+\" with id \"+catalogId+\"...\"\n",
    "    offersResponse = session.get('https://api.etilbudsavis.dk/v2/catalogs/'+catalogId+'/hotspots?r_lat=59.95&r_lng=10.75&r_radius=700000&api_av=0.1.33',\n",
    "                        headers=defaultHeaders)\n",
    "    offers = json.loads(offersResponse.text)\n",
    "    print \"Number of offers: \"+ str(len(offers))\n",
    "    if len(offers)==0:\n",
    "        continue\n",
    "    offerIdList = [offer['id'] for offer in offers]\n",
    "    print \"Parsing offers...\"\n",
    "    JsonFileName = catalogBrand + '_'+catalogId + \"_\" + catalogRunFrom + \".json\"\n",
    "    offerDescList = []\n",
    "    for offerId in offerIdList:\n",
    "        offerDescResponse = session.get('https://api.etilbudsavis.dk/v2/offers/'+offerId+'?r_lat=59.95&r_lng=10.75&r_radius=700000&api_av=0.1.33',\n",
    "                                    headers=defaultHeaders)\n",
    "        offerDescList.append(json.loads(offerDescResponse.text.encode('utf-8')))\n",
    "    with io.open(JsonFileName, 'w', encoding=\"utf-8\") as json_file:\n",
    "        data = json.dumps(offerDescList, ensure_ascii=False)     \n",
    "        json_file.write(unicode(data))\n",
    "    print \"Done.\""
   ]
  },
  {
   "cell_type": "code",
   "execution_count": null,
   "metadata": {
    "collapsed": false
   },
   "outputs": [],
   "source": [
    "data[12]"
   ]
  },
  {
   "cell_type": "code",
   "execution_count": null,
   "metadata": {
    "collapsed": false
   },
   "outputs": [],
   "source": [
    "import codecs\n",
    "content = unicode(data.content.strip(codecs.BOM_UTF8), 'utf-8')\n"
   ]
  },
  {
   "cell_type": "code",
   "execution_count": null,
   "metadata": {
    "collapsed": true
   },
   "outputs": [],
   "source": []
  }
 ],
 "metadata": {
  "kernelspec": {
   "display_name": "Python 2",
   "language": "python",
   "name": "python2"
  },
  "language_info": {
   "codemirror_mode": {
    "name": "ipython",
    "version": 2
   },
   "file_extension": ".py",
   "mimetype": "text/x-python",
   "name": "python",
   "nbconvert_exporter": "python",
   "pygments_lexer": "ipython2",
   "version": "2.7.6"
  }
 },
 "nbformat": 4,
 "nbformat_minor": 1
}
