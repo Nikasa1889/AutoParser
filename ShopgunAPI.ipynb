{
 "cells": [
  {
   "cell_type": "code",
   "execution_count": null,
   "metadata": {
    "collapsed": false,
    "scrolled": true
   },
   "outputs": [],
   "source": [
    "from ShopgunAPI import ShopgunAPI\n",
    "import json\n",
    "import io\n",
    "\n",
    "shopgunAPI = ShopgunAPI(verbose=True);\n",
    "#shopgunAPI.getStores();"
   ]
  },
  {
   "cell_type": "code",
   "execution_count": null,
   "metadata": {
    "collapsed": false,
    "scrolled": true
   },
   "outputs": [],
   "source": [
    "selectedBrandNames = ['coop mega', 'coop extra', 'coop marked', 'kiwi', 'meny', 'rema', 'matkroken',\\\n",
    "                      'coop prix','joker', 'bunnpris', 'extra', 'spar']\n",
    "selectedBrandNames = ['spar']\n",
    "selectedCatalogList = shopgunAPI.getCatalogs(selectedBrandNames=selectedBrandNames)"
   ]
  },
  {
   "cell_type": "code",
   "execution_count": null,
   "metadata": {
    "collapsed": false,
    "scrolled": true
   },
   "outputs": [],
   "source": [
    "from MatifyAPI import MatifyAPI\n",
    "matifyAPI = MatifyAPI()\n",
    "#Get offers in selected catalogs\n",
    "for catalogStore, catalogId, catalogRunFrom, catalogBrand in selectedCatalogList:\n",
    "    offerDescList = shopgunAPI.getOfferDescriptionsOfCatalog(catalogId, catalogStore)\n",
    "    JsonFileName = shopgunAPI.generateCatalogFileName(catalogBrand, catalogId, catalogRunFrom)\n",
    "    with io.open(JsonFileName, 'w', encoding=\"utf-8\") as json_file:\n",
    "        data = json.dumps(offerDescList, ensure_ascii=False)     \n",
    "        json_file.write(unicode(data))\n",
    "        matifyAPI.uploadCatalog(brandName=catalogBrand, catalogData=data, catalogFileName=JsonFileName)\n",
    "    print \"Done.\""
   ]
  },
  {
   "cell_type": "markdown",
   "metadata": {
    "collapsed": false
   },
   "source": [
    "## Download deals from before"
   ]
  },
  {
   "cell_type": "code",
   "execution_count": null,
   "metadata": {
    "collapsed": false
   },
   "outputs": [],
   "source": [
    "selectedBrandNames = ['coop mega', 'coop extra', 'coop marked', 'kiwi', 'meny', 'rema', 'matkroken', \n",
    "                      'coop obs', 'coop prix','joker', 'bunnpris', 'extra', 'spar']\n",
    "\n",
    "catalogsResponse = session.get('https://api.etilbudsavis.dk/v2/catalogs?r_lat=59.95'+\n",
    "                               '&r_lng=10.75&r_radius=700000&api_av=0.1.33'+\n",
    "                               '&offset=10&limit=100'+\n",
    "                               '&run_from=2015-01-30T23:00:00+0000'+\n",
    "                               '&run_till=2015-02-13T22:59:59+0000',\n",
    "                               headers=defaultHeaders)\n",
    "catalogs = json.loads(catalogsResponse.text)\n",
    "catalogList = [[catalog['branding']['name'], catalog['store_id'], catalog['id']] for catalog in catalogs]\n",
    "print tabulate(catalogList, headers=['All Catalogs', 'Store Id', 'Id'])\n",
    "\n",
    "#Check if any brand name contains any selectedBrandName\n",
    "selectedCatalogs = [catalog for catalog in catalogs \n",
    "                    if len([brandName for brandName in selectedBrandNames if brandName in catalog['branding']['name'].lower()]) > 0]\n",
    "selectedCatalogList = [[catalog['branding']['name'], catalog['id'], catalog['run_from'], \n",
    "                        next(brandName for brandName in selectedBrandNames if brandName in catalog['branding']['name'].lower())] \n",
    "                       for catalog in selectedCatalogs]\n",
    "print \"\\n---------------------------------\"\n",
    "print tabulate(selectedCatalogList, headers=['Selected Catalogs', 'Id', 'Run From', 'Brand'])"
   ]
  },
  {
   "cell_type": "code",
   "execution_count": null,
   "metadata": {
    "collapsed": false
   },
   "outputs": [],
   "source": [
    "catalogsResponse"
   ]
  },
  {
   "cell_type": "code",
   "execution_count": null,
   "metadata": {
    "collapsed": true
   },
   "outputs": [],
   "source": [
    "catalogs = json.loads(catalogsResponse.text)\n"
   ]
  },
  {
   "cell_type": "code",
   "execution_count": null,
   "metadata": {
    "collapsed": true
   },
   "outputs": [],
   "source": []
  }
 ],
 "metadata": {
  "kernelspec": {
   "display_name": "Python 2",
   "language": "python",
   "name": "python2"
  },
  "language_info": {
   "codemirror_mode": {
    "name": "ipython",
    "version": 2
   },
   "file_extension": ".py",
   "mimetype": "text/x-python",
   "name": "python",
   "nbconvert_exporter": "python",
   "pygments_lexer": "ipython2",
   "version": "2.7.6"
  }
 },
 "nbformat": 4,
 "nbformat_minor": 1
}
