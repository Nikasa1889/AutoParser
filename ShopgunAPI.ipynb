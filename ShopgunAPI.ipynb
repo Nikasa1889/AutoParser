{
 "cells": [
  {
   "cell_type": "code",
   "execution_count": null,
   "metadata": {
    "collapsed": false
   },
   "outputs": [],
   "source": [
    "from requests import Session\n",
    "from tabulate import tabulate\n",
    "import MatifyAPI\n",
    "import json\n",
    "import io\n",
    "# encoding=utf8\n",
    "\n",
    "session = Session()\n",
    "tokenResponse = session.post('https://api.etilbudsavis.dk/v2/sessions?api_key=00izwus560vpbdasf0o92m2fhaim4ynr')\n",
    "token = (json.loads(tokenResponse.text))[\"token\"]\n",
    "if not token:\n",
    "    print \"Couldn't get token\"\n",
    "defaultHeaders = {'X-token': token, 'Origin': \"https://etilbudsavis.dk/\"}"
   ]
  },
  {
   "cell_type": "code",
   "execution_count": null,
   "metadata": {
    "collapsed": false,
    "scrolled": true
   },
   "outputs": [],
   "source": [
    "#List Store. \n",
    "listResponse = session.get('https://api.etilbudsavis.dk/v2/stores?r_lat=59.95&r_lng=10.75&r_radius=700000&api_av=0.1.33&limit=100',\n",
    "                              headers=defaultHeaders)\n",
    "stores = json.loads(listResponse.text)\n",
    "storeList = [[store['branding']['name'], store['id']] for store in stores]\n",
    "print \"-----------------List 100 stores-----------------------------\"\n",
    "print tabulate(storeList, headers=['All Stores', 'Id'])\n",
    "#Should use the branding name instead of store id to filter\n",
    "#selectedId = ['7edbLOE', '90f2F7y', 'd8dewIy', '2665CXz', '82a9zXz', 'b88bQ7y', '618fq21', '98c86Iq']\n",
    "#selectedStoreList = [[store['branding']['name'], store['id']] for store in stores if (store['id'] in selectedId)]\n",
    "#print tabulate(selectedStoreList, headers=['Selected Stores', 'Id'])\n",
    "\n",
    "#Note: input names in lower-case\n",
    "#selectedBrandNames = ['coop mega', 'coop extra', 'coop marked', 'kiwi', 'meny', 'rema', 'matkroken', \n",
    "#                      'coop obs', 'coop prix','joker', 'bunnpris', 'extra', 'spar']\n",
    "selectedBrandNames = ['spar']"
   ]
  },
  {
   "cell_type": "code",
   "execution_count": null,
   "metadata": {
    "collapsed": false,
    "scrolled": true
   },
   "outputs": [],
   "source": [
    "#List Catalog\n",
    "#The store_ids filter of the API does not seem to work, so we have to filter ourself!\n",
    "#storeIdStr = ','.join([selectedStore[1] for selectedStore in selectedStoreList])\n",
    "catalogsResponse = session.get('https://api.etilbudsavis.dk/v2/catalogs?r_lat=59.95'+\n",
    "                               '&r_lng=10.75&r_radius=700000&api_av=0.1.33&limit=100',\n",
    "                               headers=defaultHeaders)\n",
    "catalogs = json.loads(catalogsResponse.text)\n",
    "catalogList = [[catalog['branding']['name'], catalog['store_id'], catalog['id']] for catalog in catalogs]\n",
    "print tabulate(catalogList, headers=['All Catalogs', 'Store Id', 'Id'])\n",
    "\n",
    "#Check if any the brand name contains any selectedBrandName\n",
    "selectedCatalogs = [catalog for catalog in catalogs \n",
    "                    if len([brandName for brandName in selectedBrandNames if brandName in catalog['branding']['name'].lower()]) > 0]\n",
    "selectedCatalogList = [[catalog['branding']['name'], catalog['id'], catalog['run_from'], \n",
    "                        next(brandName for brandName in selectedBrandNames if brandName in catalog['branding']['name'].lower())] \n",
    "                       for catalog in selectedCatalogs]\n",
    "print \"\\n---------------------------------\"\n",
    "print tabulate(selectedCatalogList, headers=['Selected Catalogs', 'Id', 'Run From', 'Brand'])"
   ]
  },
  {
   "cell_type": "code",
   "execution_count": null,
   "metadata": {
    "collapsed": false
   },
   "outputs": [],
   "source": [
    "#Get offers in selected catalog\n",
    "for catalogStore, catalogId, catalogRunFrom, catalogBrand in selectedCatalogList:\n",
    "    print \"--------------------------------------------\"\n",
    "    print \"Requesting catalog \"+catalogStore+\" with id \"+catalogId+\"...\"\n",
    "    offersResponse = session.get('https://api.etilbudsavis.dk/v2/catalogs/'+catalogId+'/hotspots?r_lat=59.95&r_lng=10.75&r_radius=700000&api_av=0.1.33',\n",
    "                        headers=defaultHeaders)\n",
    "    offers = json.loads(offersResponse.text)\n",
    "    print \"Number of offers: \"+ str(len(offers))\n",
    "    if len(offers)==0:\n",
    "        continue\n",
    "    offerIdList = [offer['id'] for offer in offers]\n",
    "    print \"Parsing offers...\"\n",
    "    JsonFileName = catalogBrand + '_'+catalogId + \"_\" + catalogRunFrom + \".json\"\n",
    "    offerDescList = []\n",
    "    for offerId in offerIdList:\n",
    "        offerDescResponse = session.get('https://api.etilbudsavis.dk/v2/offers/'+offerId+'?r_lat=59.95&r_lng=10.75&r_radius=700000&api_av=0.1.33',\n",
    "                                    headers=defaultHeaders)\n",
    "        offerDescList.append(json.loads(offerDescResponse.text.encode('utf-8')))\n",
    "    with io.open(JsonFileName, 'w', encoding=\"utf-8\") as json_file:\n",
    "        data = json.dumps(offerDescList, ensure_ascii=False)     \n",
    "        json_file.write(unicode(data))\n",
    "        MatifyAPI.uploadCatalogs(session = session, catalogId=catalogId, catalogJson=data, catalogName=JsonFileName)\n",
    "    print \"Done.\""
   ]
  },
  {
   "cell_type": "markdown",
   "metadata": {
    "collapsed": false
   },
   "source": [
    "## Download deals from before"
   ]
  },
  {
   "cell_type": "code",
   "execution_count": null,
   "metadata": {
    "collapsed": false
   },
   "outputs": [],
   "source": [
    "selectedBrandNames = ['coop mega', 'coop extra', 'coop marked', 'kiwi', 'meny', 'rema', 'matkroken', \n",
    "                      'coop obs', 'coop prix','joker', 'bunnpris', 'extra', 'spar']\n",
    "\n",
    "catalogsResponse = session.get('https://api.etilbudsavis.dk/v2/catalogs?r_lat=59.95'+\n",
    "                               '&r_lng=10.75&r_radius=700000&api_av=0.1.33'+\n",
    "                               '&offset=10&limit=100'+\n",
    "                               '&run_from=2015-01-30T23:00:00+0000'+\n",
    "                               '&run_till=2015-02-13T22:59:59+0000',\n",
    "                               headers=defaultHeaders)\n",
    "catalogs = json.loads(catalogsResponse.text)\n",
    "catalogList = [[catalog['branding']['name'], catalog['store_id'], catalog['id']] for catalog in catalogs]\n",
    "print tabulate(catalogList, headers=['All Catalogs', 'Store Id', 'Id'])\n",
    "\n",
    "#Check if any brand name contains any selectedBrandName\n",
    "selectedCatalogs = [catalog for catalog in catalogs \n",
    "                    if len([brandName for brandName in selectedBrandNames if brandName in catalog['branding']['name'].lower()]) > 0]\n",
    "selectedCatalogList = [[catalog['branding']['name'], catalog['id'], catalog['run_from'], \n",
    "                        next(brandName for brandName in selectedBrandNames if brandName in catalog['branding']['name'].lower())] \n",
    "                       for catalog in selectedCatalogs]\n",
    "print \"\\n---------------------------------\"\n",
    "print tabulate(selectedCatalogList, headers=['Selected Catalogs', 'Id', 'Run From', 'Brand'])"
   ]
  },
  {
   "cell_type": "code",
   "execution_count": null,
   "metadata": {
    "collapsed": false
   },
   "outputs": [],
   "source": [
    "catalogsResponse"
   ]
  },
  {
   "cell_type": "code",
   "execution_count": null,
   "metadata": {
    "collapsed": true
   },
   "outputs": [],
   "source": [
    "catalogs = json.loads(catalogsResponse.text)\n"
   ]
  },
  {
   "cell_type": "code",
   "execution_count": null,
   "metadata": {
    "collapsed": true
   },
   "outputs": [],
   "source": []
  }
 ],
 "metadata": {
  "kernelspec": {
   "display_name": "Python 2",
   "language": "python",
   "name": "python2"
  },
  "language_info": {
   "codemirror_mode": {
    "name": "ipython",
    "version": 2
   },
   "file_extension": ".py",
   "mimetype": "text/x-python",
   "name": "python",
   "nbconvert_exporter": "python",
   "pygments_lexer": "ipython2",
   "version": "2.7.6"
  }
 },
 "nbformat": 4,
 "nbformat_minor": 1
}
