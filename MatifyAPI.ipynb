{
 "cells": [
  {
   "cell_type": "code",
   "execution_count": 20,
   "metadata": {
    "collapsed": false,
    "scrolled": false
   },
   "outputs": [
    {
     "name": "stdout",
     "output_type": "stream",
     "text": [
      "----------------------------------------\n",
      "Beverages (ID: 8)\n",
      "  Sub Id  Name             Num of Products\n",
      "--------  -------------  -----------------\n",
      "      19  Alcoholic                      0\n",
      "      20  Non-alcoholic                  1\n",
      "----------------------------------------\n",
      "Dairy (ID: 10)\n",
      "  Sub Id  Name              Num of Products\n",
      "--------  --------------  -----------------\n",
      "      21  Milk                            0\n",
      "      22  Cultured Dairy                  0\n",
      "      23  Cheese                          0\n",
      "      24  Butter                          0\n",
      "      25  Icecream                        0\n",
      "      67  Eggs                            0\n",
      "----------------------------------------\n",
      "Ready-to-eat Food (ID: 11)\n",
      "  Sub Id  Name              Num of Products\n",
      "--------  --------------  -----------------\n",
      "      15  Snack                           0\n",
      "      16  Bakery                          0\n",
      "      26  Pizza                           0\n",
      "      27  Microwave food                  1\n",
      "----------------------------------------\n",
      "Fruit and Vegetables (ID: 12)\n",
      "  Sub Id  Name          Num of Products\n",
      "--------  ----------  -----------------\n",
      "      63  Fruit                       2\n",
      "      64  Vegetables                  0\n",
      "----------------------------------------\n",
      "Meat (ID: 13)\n",
      "  Sub Id  Name        Num of Products\n",
      "--------  --------  -----------------\n",
      "      29  Beef                      0\n",
      "      30  Pork                      0\n",
      "      31  Chicken                   0\n",
      "      32  Lamb                      0\n",
      "      33  Reindeer                  0\n",
      "      34  Ham                       0\n",
      "      66  Sausages                  0\n",
      "      73  Meatball                  0\n",
      "----------------------------------------\n",
      "Seafood (ID: 14)\n",
      "  Sub Id  Name                  Num of Products\n",
      "--------  ------------------  -----------------\n",
      "      36  Fish                                0\n",
      "      37  Crab                                1\n",
      "      38  Shrimp                              0\n",
      "      39  Squid                               0\n",
      "      69  Processed products                  0\n",
      "----------------------------------------\n",
      "Spices (ID: 18)\n",
      "Sub Id    Name    Num of Products\n",
      "--------  ------  -----------------\n",
      "----------------------------------------\n",
      "Rice and Pasta (ID: 70)\n",
      "Sub Id    Name    Num of Products\n",
      "--------  ------  -----------------\n",
      "----------------------------------------\n",
      "Sauce & Dressing (ID: 71)\n",
      "Sub Id    Name    Num of Products\n",
      "--------  ------  -----------------\n"
     ]
    }
   ],
   "source": [
    "from requests import Session\n",
    "from tabulate import tabulate\n",
    "import json\n",
    "import io\n",
    "session = Session()\n",
    "categoryResponse = session.get('http://52.59.243.6:8000/listCategories/', headers={'Accept':'application/json'})\n",
    "categories = json.loads(categoryResponse.text)\n",
    "categoryList = [[category['id'], category['name'], [[subCategory['id'], subCategory['name'], subCategory['numOfProducts']] for subCategory in category['sub_categories']]] \n",
    "               for category in categories]\n",
    "for categoryId, categoryName, subCategories in categoryList:\n",
    "    print \"----------------------------------------\"\n",
    "    print categoryName + \" (ID: \" + str(categoryId) +\")\"\n",
    "    print tabulate(subCategories, headers=[\"Sub Id\", \"Name\", \"Num of Products\"])"
   ]
  },
  {
   "cell_type": "code",
   "execution_count": 48,
   "metadata": {
    "collapsed": false
   },
   "outputs": [
    {
     "name": "stdout",
     "output_type": "stream",
     "text": [
      "Beverages(ID=8)\n",
      "[]\n",
      "Dairy(ID=10)\n",
      "[]\n",
      "Ready-to-eat Food(ID=11)\n",
      "[]\n",
      "Fruit and Vegetables(ID=12)\n",
      "[]\n",
      "Meat(ID=13)\n",
      "[{u'description': u'', u'price': u'None', u'storeId': u'None', u'initial_price': u'34.50', u'from_date': u'None', u'to_date': u'None', u'image': None, u'discount_rate': u'None', u'id': 2, u'categoryId': u'13', u'name': u'Coop Grill Perfekt Bratwurst'}]\n",
      "Seafood(ID=14)\n",
      "[]\n",
      "Spices(ID=18)\n",
      "[]\n",
      "Rice and Pasta(ID=70)\n",
      "[]\n",
      "Sauce & Dressing(ID=71)\n",
      "[]\n"
     ]
    }
   ],
   "source": [
    "#Request products from all sub category\n",
    "productList = []\n",
    "for categoryId, categoryName, _  in categoryList:\n",
    "    print categoryName + \"(ID=\" + str(categoryId) + \")\"\n",
    "    productsResponse = session.get('http://52.59.243.6:8000/listProducts/?categoryId='+str(categoryId)+'&offset=0&len=200', \n",
    "                                   headers={'Accept':'application/json'})\n",
    "    products = json.loads(productsResponse.text)\n",
    "    print products\n",
    "    productList.append(products)\n"
   ]
  }
 ],
 "metadata": {
  "kernelspec": {
   "display_name": "Python 2",
   "language": "python",
   "name": "python2"
  },
  "language_info": {
   "codemirror_mode": {
    "name": "ipython",
    "version": 2
   },
   "file_extension": ".py",
   "mimetype": "text/x-python",
   "name": "python",
   "nbconvert_exporter": "python",
   "pygments_lexer": "ipython2",
   "version": "2.7.6"
  }
 },
 "nbformat": 4,
 "nbformat_minor": 1
}
