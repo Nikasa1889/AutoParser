{
 "cells": [
  {
   "cell_type": "code",
   "execution_count": null,
   "metadata": {
    "collapsed": false,
    "scrolled": false
   },
   "outputs": [],
   "source": [
    "from requests import Session\n",
    "import MatifyAPI\n",
    "import io\n",
    "sess = Session()\n",
    "categories = MatifyAPI.getCategories(sess, verbose=False)"
   ]
  },
  {
   "cell_type": "code",
   "execution_count": null,
   "metadata": {
    "collapsed": false
   },
   "outputs": [],
   "source": [
    "#Request products from all sub category\n",
    "allProducts = []\n",
    "nTotalProducts = 0\n",
    "for categoryId, categoryName, subCategories in categories:\n",
    "    print \"-------------------------------------------\"\n",
    "    products = MatifyAPI.getProducts (sess, categoryId, categoryName, verbose=True)\n",
    "    nTotalProducts += len(products)\n",
    "    allProducts.append([categoryName, products])\n",
    "    for subCategoryID, subCategoryName, _ in subCategories:\n",
    "        products = MatifyAPI.getProducts (sess, subCategoryID, subCategoryName, verbose=True)\n",
    "        nTotalProducts += len(products)\n",
    "        allProducts.append([subCategoryName, products])\n",
    "\n",
    "print \"Total Products: \"  + str(nTotalProducts)"
   ]
  },
  {
   "cell_type": "code",
   "execution_count": null,
   "metadata": {
    "collapsed": false,
    "scrolled": true
   },
   "outputs": [],
   "source": [
    "productWithImages = MatifyAPI.filterProductWithImage (allProducts, verbose=True)"
   ]
  },
  {
   "cell_type": "code",
   "execution_count": 1,
   "metadata": {
    "collapsed": false
   },
   "outputs": [
    {
     "name": "stdout",
     "output_type": "stream",
     "text": [
      ">> Converting image 221/221 shard 0\n",
      ">> Converting image 20/20 shard 0\n",
      "\n",
      "Finished converting the Matify dataset!\n"
     ]
    }
   ],
   "source": [
    "#Download all product images to the corresponding folder\n",
    "from MatifyDataset import MatifyDataset\n",
    "matifyDataset = MatifyDataset(datasetDir = 'MatifyDataset/', leastExamples = 15, nShards = 1, \n",
    "                              nValidations = 20, randomSeed = 0, verbose = True);\n",
    "#matifyDataset.download();\n",
    "matifyDataset.convertToTfrecord()"
   ]
  },
  {
   "cell_type": "code",
   "execution_count": null,
   "metadata": {
    "collapsed": true
   },
   "outputs": [],
   "source": []
  }
 ],
 "metadata": {
  "kernelspec": {
   "display_name": "Python 2",
   "language": "python",
   "name": "python2"
  },
  "language_info": {
   "codemirror_mode": {
    "name": "ipython",
    "version": 2
   },
   "file_extension": ".py",
   "mimetype": "text/x-python",
   "name": "python",
   "nbconvert_exporter": "python",
   "pygments_lexer": "ipython2",
   "version": "2.7.6"
  }
 },
 "nbformat": 4,
 "nbformat_minor": 1
}
