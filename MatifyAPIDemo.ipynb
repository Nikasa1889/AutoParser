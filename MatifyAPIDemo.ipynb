{
 "cells": [
  {
   "cell_type": "code",
   "execution_count": null,
   "metadata": {
    "collapsed": false,
    "scrolled": false
   },
   "outputs": [],
   "source": [
    "from requests import Session\n",
    "import MatifyAPI\n",
    "import io\n",
    "sess = Session()\n",
    "categories = MatifyAPI.getCategories(sess, verbose=False)"
   ]
  },
  {
   "cell_type": "code",
   "execution_count": null,
   "metadata": {
    "collapsed": false
   },
   "outputs": [],
   "source": [
    "#Request products from all sub category\n",
    "allProducts = []\n",
    "nTotalProducts = 0\n",
    "for categoryId, categoryName, subCategories in categories:\n",
    "    print \"-------------------------------------------\"\n",
    "    products = MatifyAPI.getProducts (sess, categoryId, categoryName, verbose=True)\n",
    "    nTotalProducts += len(products)\n",
    "    allProducts.append([categoryName, products])\n",
    "    for subCategoryID, subCategoryName, _ in subCategories:\n",
    "        products = MatifyAPI.getProducts (sess, subCategoryID, subCategoryName, verbose=True)\n",
    "        nTotalProducts += len(products)\n",
    "        allProducts.append([subCategoryName, products])\n",
    "\n",
    "print \"Total Products: \"  + str(nTotalProducts)"
   ]
  },
  {
   "cell_type": "code",
   "execution_count": null,
   "metadata": {
    "collapsed": false,
    "scrolled": true
   },
   "outputs": [],
   "source": [
    "productWithImages = MatifyAPI.filterProductWithImage (allProducts, verbose=True)"
   ]
  },
  {
   "cell_type": "code",
   "execution_count": null,
   "metadata": {
    "collapsed": false
   },
   "outputs": [],
   "source": [
    "#Download all product images to the corresponding folder\n",
    "from MatifyDataset import MatifyDataset\n",
    "matifyDataset = MatifyDataset(datasetDir = 'Matify/MatifyDataset/', leastExamples = 15, nShards = 1, \n",
    "                              nValidations = 20, randomSeed = 0, verbose = False);\n",
    "matifyDataset.download();\n",
    "matifyDataset.convertToTfrecord(nValidations = 20)"
   ]
  },
  {
   "cell_type": "code",
   "execution_count": 1,
   "metadata": {
    "collapsed": false
   },
   "outputs": [],
   "source": [
    "from MatifyDataset import MatifyDataset\n",
    "matifyDataset = MatifyDataset(datasetDir = 'Matify/MatifyDataset/', leastExamples = 15, nShards = 1, \n",
    "                              nValidations = 20, randomSeed = 0, verbose = False);\n",
    "dataset = matifyDataset.getSplit('train')"
   ]
  },
  {
   "cell_type": "code",
   "execution_count": 2,
   "metadata": {
    "collapsed": false
   },
   "outputs": [
    {
     "ename": "TypeError",
     "evalue": "'Dataset' object is not iterable",
     "output_type": "error",
     "traceback": [
      "\u001b[0;31m---------------------------------------------------------------------------\u001b[0m",
      "\u001b[0;31mTypeError\u001b[0m                                 Traceback (most recent call last)",
      "\u001b[0;32m<ipython-input-2-1b2bbc230fb9>\u001b[0m in \u001b[0;36m<module>\u001b[0;34m()\u001b[0m\n\u001b[0;32m----> 1\u001b[0;31m \u001b[0;34m[\u001b[0m\u001b[0mitem\u001b[0m\u001b[0;34m,\u001b[0m \u001b[0mlabel\u001b[0m\u001b[0;34m]\u001b[0m \u001b[0;34m=\u001b[0m \u001b[0mdataset\u001b[0m\u001b[0;34m\u001b[0m\u001b[0m\n\u001b[0m",
      "\u001b[0;31mTypeError\u001b[0m: 'Dataset' object is not iterable"
     ]
    }
   ],
   "source": [
    "provider = slim.dataset_data_provider.DatasetDataProvider(\n",
    "                  dataset,\n",
    "                  num_readers=args.reader_threads,\n",
    "                  common_queue_capacity=20 * args.batch_size,\n",
    "                  common_queue_min=10 * args.batch_size)\n",
    "            [image, label] = provider.get(['image', 'label'])"
   ]
  },
  {
   "cell_type": "code",
   "execution_count": null,
   "metadata": {
    "collapsed": true
   },
   "outputs": [],
   "source": []
  }
 ],
 "metadata": {
  "kernelspec": {
   "display_name": "Python 2",
   "language": "python",
   "name": "python2"
  },
  "language_info": {
   "codemirror_mode": {
    "name": "ipython",
    "version": 2
   },
   "file_extension": ".py",
   "mimetype": "text/x-python",
   "name": "python",
   "nbconvert_exporter": "python",
   "pygments_lexer": "ipython2",
   "version": "2.7.6"
  }
 },
 "nbformat": 4,
 "nbformat_minor": 1
}
