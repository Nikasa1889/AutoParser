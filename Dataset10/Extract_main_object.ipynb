{
 "cells": [
  {
   "cell_type": "code",
   "execution_count": 29,
   "metadata": {
    "collapsed": true
   },
   "outputs": [],
   "source": [
    "%config IPCompleter.greedy=True\n",
    "%matplotlib inline\n",
    "import os\n",
    "cwd = os.getcwd()\n",
    "DATASET_PATH = os.path.abspath(os.path.join(cwd, \"../CroppedDataset10\"))"
   ]
  },
  {
   "cell_type": "code",
   "execution_count": 23,
   "metadata": {},
   "outputs": [],
   "source": [
    "import yaml\n",
    "with open('mainobject_annotation.yaml', 'r') as yaml_file:\n",
    "    annotations = yaml.load(yaml_file)"
   ]
  },
  {
   "cell_type": "code",
   "execution_count": 34,
   "metadata": {},
   "outputs": [],
   "source": [
    "from PIL import Image\n",
    "\n",
    "for annotation in annotations:\n",
    "    img_path = annotation[\"filename\"]\n",
    "    if annotation.get('annotations', None):\n",
    "        crop_info = annotation['annotations'][0]\n",
    "        img = Image.open(img_path)\n",
    "        area = (crop_info['x'], crop_info['y'], crop_info['x'] + \n",
    "                crop_info['width'], crop_info['y'] + crop_info['height'])\n",
    "        cropped_img = img.crop(area)\n",
    "        cropped_img_path = os.path.join(DATASET_PATH, img_path)\n",
    "        cropped_img_folder = os.path.dirname(cropped_img_path) \n",
    "        if not os.path.exists(cropped_img_folder):\n",
    "            os.makedirs(cropped_img_folder)\n",
    "        cropped_img.save(cropped_img_path, 'JPEG')\n"
   ]
  },
  {
   "cell_type": "code",
   "execution_count": 33,
   "metadata": {},
   "outputs": [
    {
     "data": {
      "text/plain": [
       "'/notebooks/AutoParser/CroppedDataset10/Beef'"
      ]
     },
     "execution_count": 33,
     "metadata": {},
     "output_type": "execute_result"
    }
   ],
   "source": [
    "cropped_img_path = os.path.join(DATASET_PATH, img_path)\n",
    "os.path.exists(cropped_img_path)\n",
    "os.path.dirname(cropped_img_path)"
   ]
  },
  {
   "cell_type": "code",
   "execution_count": 14,
   "metadata": {},
   "outputs": [
    {
     "name": "stdout",
     "output_type": "stream",
     "text": [
      "Requirement already satisfied: requests in /usr/local/lib/python2.7/dist-packages (from -r ../requirements.txt (line 1))\n",
      "Requirement already satisfied: tabulate in /usr/local/lib/python2.7/dist-packages (from -r ../requirements.txt (line 2))\n",
      "Requirement already satisfied: pyyaml in /usr/local/lib/python2.7/dist-packages (from -r ../requirements.txt (line 3))\n",
      "Requirement already satisfied: Pillow in /usr/local/lib/python2.7/dist-packages (from -r ../requirements.txt (line 4))\n",
      "Requirement already satisfied: urllib3<1.23,>=1.21.1 in /usr/local/lib/python2.7/dist-packages (from requests->-r ../requirements.txt (line 1))\n",
      "Requirement already satisfied: idna<2.7,>=2.5 in /usr/local/lib/python2.7/dist-packages (from requests->-r ../requirements.txt (line 1))\n",
      "Requirement already satisfied: chardet<3.1.0,>=3.0.2 in /usr/local/lib/python2.7/dist-packages (from requests->-r ../requirements.txt (line 1))\n",
      "Requirement already satisfied: certifi>=2017.4.17 in /usr/local/lib/python2.7/dist-packages (from requests->-r ../requirements.txt (line 1))\n",
      "Requirement already satisfied: olefile in /usr/local/lib/python2.7/dist-packages (from Pillow->-r ../requirements.txt (line 4))\n"
     ]
    }
   ],
   "source": [
    "!pip install -r ../requirements.txt"
   ]
  },
  {
   "cell_type": "code",
   "execution_count": 21,
   "metadata": {},
   "outputs": [
    {
     "data": {
      "text/plain": [
       "'/notebooks/AutoParser/CroppedDataset10'"
      ]
     },
     "execution_count": 21,
     "metadata": {},
     "output_type": "execute_result"
    }
   ],
   "source": [
    "os.path.abspath(os.path.join(cwd, \"../CroppedDataset10\"))"
   ]
  },
  {
   "cell_type": "code",
   "execution_count": null,
   "metadata": {
    "collapsed": true
   },
   "outputs": [],
   "source": []
  }
 ],
 "metadata": {
  "kernelspec": {
   "display_name": "Python 2",
   "language": "python",
   "name": "python2"
  },
  "language_info": {
   "codemirror_mode": {
    "name": "ipython",
    "version": 2
   },
   "file_extension": ".py",
   "mimetype": "text/x-python",
   "name": "python",
   "nbconvert_exporter": "python",
   "pygments_lexer": "ipython2",
   "version": "2.7.12"
  }
 },
 "nbformat": 4,
 "nbformat_minor": 2
}
